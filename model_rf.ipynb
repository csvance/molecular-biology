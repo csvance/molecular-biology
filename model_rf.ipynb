{
 "cells": [
  {
   "cell_type": "code",
   "execution_count": 1,
   "metadata": {
    "collapsed": true,
    "pycharm": {
     "is_executing": false
    }
   },
   "outputs": [
    {
     "name": "stderr",
     "text": [
      "Using TensorFlow backend.\n"
     ],
     "output_type": "stream"
    },
    {
     "data": {
      "text/plain": "0.9341692789968652"
     },
     "metadata": {},
     "output_type": "execute_result",
     "execution_count": 1
    }
   ],
   "source": [
    "import numpy as np\n",
    "from sklearn.ensemble import RandomForestClassifier\n",
    "from seq import DNASequence\n",
    "\n",
    "train_seq = DNASequence('data/train.csv')\n",
    "Xt, yt = train_seq.__getitem__(0)\n",
    "\n",
    "val_seq = DNASequence('data/val.csv')\n",
    "Xv, yv = val_seq.__getitem__(0)\n",
    "\n",
    "# Flatten sequence to feature vector\n",
    "Xt = np.reshape(Xt, (Xt.shape[0], Xt.shape[1]*Xt.shape[2]))\n",
    "Xv = np.reshape(Xv, (Xv.shape[0], Xv.shape[1]*Xv.shape[2]))\n",
    "\n",
    "clf = RandomForestClassifier(n_estimators=500,\n",
    "                             random_state=0)\n",
    "clf.fit(Xt, yt) \n",
    "clf.score(Xv, yv) "
   ]
  }
 ],
 "metadata": {
  "kernelspec": {
   "display_name": "Python 3",
   "language": "python",
   "name": "python3"
  },
  "language_info": {
   "codemirror_mode": {
    "name": "ipython",
    "version": 2
   },
   "file_extension": ".py",
   "mimetype": "text/x-python",
   "name": "python",
   "nbconvert_exporter": "python",
   "pygments_lexer": "ipython2",
   "version": "2.7.6"
  },
  "pycharm": {
   "stem_cell": {
    "cell_type": "raw",
    "source": [],
    "metadata": {
     "collapsed": false
    }
   }
  }
 },
 "nbformat": 4,
 "nbformat_minor": 0
}